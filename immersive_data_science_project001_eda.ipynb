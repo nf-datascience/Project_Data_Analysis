{
 "cells": [
  {
   "cell_type": "markdown",
   "metadata": {},
   "source": [
    "# Final Project Submission\n",
    "\n",
    "Florian Salihovic"
   ]
  },
  {
   "cell_type": "markdown",
   "metadata": {
    "collapsed": true
   },
   "source": [
    "## Understanding Business Requirements\n",
    "\n",
    "### Technical details\n",
    "R-squared/R-squared adjusted should be between .7 and .9."
   ]
  },
  {
   "cell_type": "markdown",
   "metadata": {},
   "source": [
    "## Data Mining"
   ]
  },
  {
   "cell_type": "markdown",
   "metadata": {},
   "source": [
    "The data is provided as a CSV table containing a series of columns:\n",
    "\n",
    "\n",
    "Answer to the 1st question - left-align the table - create and run a code cell above the table markdown cell, with the following content:\n",
    "\n",
    "# Column Names and descriptions for Kings County Data Set\n",
    "\n",
    "| Key               | Description                                        | Expected Data Type       |\n",
    "|:------------------|:---------------------------------------------------|:-------------------------|\n",
    "| id                | unique identified for a house                      | numeric, positive        |\n",
    "| date              | date house was sold                                | pandas.Timestamp         |\n",
    "| price             | is prediction target                               | numeric, positive        |\n",
    "| bedroomsNumber    | number of bedrooms/house                           | numeric, positive        |\n",
    "| bathroomsNumber   | of bathrooms/bedrooms                              | numeric, positive        |\n",
    "| sqft_livingsquare | footage of the home                                | numeric, positive        |\n",
    "| sqft_lotsquare    | footage of the lot                                 | numeric, positive        |\n",
    "| floorsTotal       | floors (levels) in house                           | numeric, positive        |\n",
    "| waterfront        | has a view to a waterfront                         | boolean, optional           |\n",
    "| view              | has been viewed                                    | numeric, positive           |\n",
    "| condition         | how good the condition is ( overall )              | numeric, positive           |\n",
    "| grade             | overall grade given to the housing unit, based on King County grading system | |\n",
    "| sqft_above        | square footage of house apart from basement        | numeric, positive, optional |\n",
    "| sqft_basement     | square footage of the basement                     | numeric, positive           |\n",
    "| yr_built          | built year                                         | numeric, positive           |\n",
    "| yr_renovated      | year when house was renovated                      | numeric, positive, optional |\n",
    "| zipcode           | zip code                                           | numeric, positive |\n",
    "| lat               | Latitude coordinate                                | numeric, optional |\n",
    "| long              | Longitude coordinate                               | numeric, optional |\n",
    "| sqft_living15     | square footage of interior housing living space for the nearest 15 neighbors | numeric, optional |\n",
    "| sqft_lot15        | square footage of the land lots of the nearest 15 neighbors | numeric, optional |\n",
    "\n",
    "\n",
    "##### Additional Credits And Sources\n",
    "- [Variable Explanation, kaggle.com](https://www.kaggle.com/harlfoxem/housesalesprediction/discussion/23194)\n",
    "- [King County Home Sales: Analysis and the limitations of a multiple regression model, JuanPablo Murillo, February 23, 2016](https://rstudio-pubs-static.s3.amazonaws.com/155304_cc51f448116744069664b35e7762999f.html)\n",
    "- "
   ]
  },
  {
   "cell_type": "markdown",
   "metadata": {},
   "source": [
    "### Simple File Line Count\n",
    "\n",
    "Using `wc -l King_County_House_prices_dataset.csv` we get direct feedback over the number of lines in a file. This could be a useful comparison value in case the formatting of the dataset was broken."
   ]
  },
  {
   "cell_type": "code",
   "execution_count": null,
   "metadata": {},
   "outputs": [],
   "source": [
    "!wc -l King_County_House_prices_dataset.csv"
   ]
  },
  {
   "cell_type": "markdown",
   "metadata": {},
   "source": [
    "### Exploring The Dataset With Pandas"
   ]
  },
  {
   "cell_type": "code",
   "execution_count": null,
   "metadata": {},
   "outputs": [],
   "source": [
    "import pandas as pd"
   ]
  },
  {
   "cell_type": "code",
   "execution_count": null,
   "metadata": {},
   "outputs": [],
   "source": [
    "df = pd.read_csv('King_County_House_prices_dataset.csv', delimiter=\",\")"
   ]
  },
  {
   "cell_type": "markdown",
   "metadata": {},
   "source": [
    "#### DataFrame: Basic Information\n",
    "\n",
    "Understanding the values is important as these define the operations we can perform (consistently) on the DataFrame. Basic information about the DataFrame can be obtained by calling [pandas.DataFrame.info](https://pandas.pydata.org/pandas-docs/stable/reference/api/pandas.DataFrame.info.html) and [pandas.DataFrame.describe](https://pandas.pydata.org/pandas-docs/stable/reference/api/pandas.DataFrame.describe.html)."
   ]
  },
  {
   "cell_type": "code",
   "execution_count": null,
   "metadata": {},
   "outputs": [],
   "source": [
    "df.info()"
   ]
  },
  {
   "cell_type": "code",
   "execution_count": null,
   "metadata": {},
   "outputs": [],
   "source": [
    "df.describe()"
   ]
  },
  {
   "cell_type": "markdown",
   "metadata": {},
   "source": [
    "#### DataFrame: Basic Inspections\n",
    "\n",
    "[pandas.DataFrame.head](https://pandas.pydata.org/pandas-docs/stable/reference/api/pandas.DataFrame.head.html) and [pandas.DataFrame.tail](https://pandas.pydata.org/pandas-docs/stable/reference/api/pandas.DataFrame.tail.html) provide a first glance on the data contained by the DataFrame."
   ]
  },
  {
   "cell_type": "code",
   "execution_count": null,
   "metadata": {},
   "outputs": [],
   "source": [
    "df.head()"
   ]
  },
  {
   "cell_type": "code",
   "execution_count": null,
   "metadata": {},
   "outputs": [],
   "source": [
    "df.tail()"
   ]
  },
  {
   "cell_type": "markdown",
   "metadata": {},
   "source": [
    "### Data Cleaning"
   ]
  },
  {
   "cell_type": "markdown",
   "metadata": {},
   "source": [
    "`date` is a string following the pattern `month/date/year`. It might be useful to convert the value later into a [pandas.Timestamp](https://pandas.pydata.org/pandas-docs/stable/reference/api/pandas.Timestamp.html) as it may provide additional or more useful comparison mechanics."
   ]
  },
  {
   "cell_type": "code",
   "execution_count": null,
   "metadata": {},
   "outputs": [],
   "source": [
    "df['date_as_datetime'] = df['date'].apply(pd.to_datetime)"
   ]
  },
  {
   "cell_type": "markdown",
   "metadata": {},
   "source": [
    "Inspecting the DataFrame we can see the format data rendered in `date` and `date_timestamp` is different. `DataFrame.head` gives a first glance on the modified DataFrame while calling `DataFrame.info` shows the exact data types."
   ]
  },
  {
   "cell_type": "code",
   "execution_count": null,
   "metadata": {},
   "outputs": [],
   "source": [
    "df.head()"
   ]
  },
  {
   "cell_type": "code",
   "execution_count": null,
   "metadata": {},
   "outputs": [],
   "source": [
    "df.info()"
   ]
  },
  {
   "cell_type": "markdown",
   "metadata": {},
   "source": [
    "#### Searching For Null Values"
   ]
  },
  {
   "cell_type": "code",
   "execution_count": null,
   "metadata": {},
   "outputs": [],
   "source": [
    "df.isnull().any()"
   ]
  },
  {
   "cell_type": "markdown",
   "metadata": {},
   "source": [
    "#### Unspecified/Missing Value: `sqft_basement`"
   ]
  },
  {
   "cell_type": "code",
   "execution_count": null,
   "metadata": {},
   "outputs": [],
   "source": [
    "df[df['sqft_basement'] == '?'].describe()"
   ]
  },
  {
   "cell_type": "markdown",
   "metadata": {},
   "source": [
    "#### Unspecified/Missing Value: `waterfront`"
   ]
  },
  {
   "cell_type": "code",
   "execution_count": null,
   "metadata": {},
   "outputs": [],
   "source": [
    "df[df['waterfront'].isna()].describe()"
   ]
  },
  {
   "cell_type": "markdown",
   "metadata": {},
   "source": [
    "#### Unspecified/Missing Value: `view`"
   ]
  },
  {
   "cell_type": "code",
   "execution_count": null,
   "metadata": {},
   "outputs": [],
   "source": [
    "df[df['view'].isna()].describe()"
   ]
  }
 ],
 "metadata": {
  "kernelspec": {
   "display_name": "Python 3",
   "language": "python",
   "name": "python3"
  },
  "language_info": {
   "codemirror_mode": {
    "name": "ipython",
    "version": 3
   },
   "file_extension": ".py",
   "mimetype": "text/x-python",
   "name": "python",
   "nbconvert_exporter": "python",
   "pygments_lexer": "ipython3",
   "version": "3.6.6"
  }
 },
 "nbformat": 4,
 "nbformat_minor": 2
}
